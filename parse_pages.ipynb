{
 "cells": [
  {
   "cell_type": "code",
   "execution_count": null,
   "metadata": {},
   "outputs": [],
   "source": [
    "from pathlib import Path\n",
    "from tqdm.auto import tqdm\n",
    "from bs4 import BeautifulSoup\n",
    "import unidecode\n",
    "import pandas as pd\n",
    "import logging\n",
    "\n",
    "logger = logging.getLogger(__name__)"
   ]
  },
  {
   "cell_type": "code",
   "execution_count": null,
   "metadata": {},
   "outputs": [],
   "source": [
    "pages_path = Path(\"./pages\")"
   ]
  },
  {
   "cell_type": "code",
   "execution_count": null,
   "metadata": {},
   "outputs": [],
   "source": [
    "transactions = []\n",
    "pbar = tqdm(list(pages_path.glob(\"*\")))\n",
    "for p in pbar:\n",
    "    pbar.set_description(p.as_posix(), refresh=True)\n",
    "    with p.open(\"r\") as f:\n",
    "        page_str = f.read()\n",
    "    \n",
    "    soup = BeautifulSoup(page_str, 'lxml')\n",
    "\n",
    "    table = soup.find(\"table\", {\"id\": 'transaction-table'})\n",
    "    table_body = table.find('tbody')\n",
    "\n",
    "    rows = table_body.find_all('tr')\n",
    "    for row in tqdm(rows, leave=False):\n",
    "        if row.get(\"ng-repeat-start\") != 'operation in operations':\n",
    "            continue\n",
    "\n",
    "        cols = row.find_all('td')\n",
    "        cols = [ele.text.strip() for ele in cols]\n",
    "\n",
    "        try:\n",
    "            _, data_transakcji, data_ksiegowania, odbiorca_nadawca, tytul, kwota, _, saldo, podkategoria = cols\n",
    "        except Exception as e:\n",
    "            print(e)\n",
    "            logger.error(e)\n",
    "        transaction_data = {\n",
    "            \"data_transakcji\": data_transakcji,\n",
    "            \"data_ksiegowania\": data_ksiegowania,\n",
    "            \"odbiorca_nadawca\": odbiorca_nadawca,\n",
    "            \"tytul\": tytul,\n",
    "            \"kwota\": unidecode.unidecode(kwota),\n",
    "            \"saldo\": unidecode.unidecode(saldo),\n",
    "            \"podkategoria\": podkategoria,\n",
    "        }\n",
    "        transactions.append(transaction_data)\n",
    "\n"
   ]
  },
  {
   "cell_type": "code",
   "execution_count": null,
   "metadata": {},
   "outputs": [],
   "source": [
    "len(transactions)"
   ]
  },
  {
   "cell_type": "code",
   "execution_count": null,
   "metadata": {},
   "outputs": [],
   "source": [
    "df = pd.DataFrame(transactions)\n",
    "df"
   ]
  },
  {
   "cell_type": "code",
   "execution_count": null,
   "metadata": {},
   "outputs": [],
   "source": [
    "df.dtypes"
   ]
  },
  {
   "cell_type": "code",
   "execution_count": null,
   "metadata": {},
   "outputs": [],
   "source": [
    "df_transformed = df.assign(saldo=df[\"saldo\"].apply(lambda x: x.split(\" PLN\")[0].replace(\" \", '').replace(\",\", \".\")).replace(\"-.--\", None).astype(float))\n",
    "df_transformed[\"kwota\"] = df_transformed[\"kwota\"].apply(lambda x: x.split(\" PLN\")[0].replace(\" \", '').replace(\",\", \".\")).astype(float)\n",
    "df_transformed[\"data_transakcji\"] = pd.to_datetime(df_transformed[\"data_transakcji\"])\n",
    "df_transformed[\"data_ksiegowania\"] = pd.to_datetime(df_transformed[\"data_ksiegowania\"])\n",
    "df_transformed.index.name = \"numer_transakcji\"\n",
    "df_transformed"
   ]
  },
  {
   "cell_type": "code",
   "execution_count": null,
   "metadata": {},
   "outputs": [],
   "source": [
    "df_transformed.to_csv(\"wydatki.csv\")"
   ]
  },
  {
   "cell_type": "code",
   "execution_count": null,
   "metadata": {},
   "outputs": [],
   "source": [
    "df_kategorie = pd.read_csv(\"kategorie.csv\")\n",
    "df_kategorie"
   ]
  },
  {
   "cell_type": "code",
   "execution_count": null,
   "metadata": {},
   "outputs": [],
   "source": [
    "df_merged = df_transformed.merge(df_kategorie, on=\"podkategoria\")\n",
    "df_merged"
   ]
  },
  {
   "cell_type": "code",
   "execution_count": null,
   "metadata": {},
   "outputs": [],
   "source": [
    "df_merged.to_csv(\"wydatki_kategorie.csv\")"
   ]
  }
 ],
 "metadata": {
  "kernelspec": {
   "display_name": "venv",
   "language": "python",
   "name": "python3"
  },
  "language_info": {
   "codemirror_mode": {
    "name": "ipython",
    "version": 3
   },
   "file_extension": ".py",
   "mimetype": "text/x-python",
   "name": "python",
   "nbconvert_exporter": "python",
   "pygments_lexer": "ipython3",
   "version": "3.10.11"
  }
 },
 "nbformat": 4,
 "nbformat_minor": 2
}
